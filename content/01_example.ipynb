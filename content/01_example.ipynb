{
 "cells": [
  {
   "cell_type": "code",
   "execution_count": null,
   "metadata": {},
   "outputs": [],
   "source": [
    "%pip install -q ipyreact"
   ]
  },
  {
   "cell_type": "code",
   "execution_count": null,
   "metadata": {},
   "outputs": [],
   "source": [
    "%load_ext ipyreact"
   ]
  },
  {
   "cell_type": "code",
   "execution_count": null,
   "metadata": {},
   "outputs": [],
   "source": [
    "%%html\n",
    "<link rel=\"stylesheet\" href=\"https://unpkg.com/mafs@0.16.0/core.css\">"
   ]
  },
  {
   "cell_type": "code",
   "execution_count": null,
   "metadata": {},
   "outputs": [],
   "source": [
    "%%react\n",
    "\n",
    "import * as React from 'react';\n",
    "import { Mafs, Coordinates } from \"mafs\"\n",
    "\n",
    "export default function HelloFx() {\n",
    "  return (\n",
    "    <Mafs>\n",
    "      <Coordinates.Cartesian />\n",
    "    </Mafs>\n",
    "  )\n",
    "}"
   ]
  },
  {
   "cell_type": "code",
   "execution_count": null,
   "metadata": {},
   "outputs": [],
   "source": [
    "\n",
    "import ipyreact\n",
    "from traitlets import Float\n",
    "\n",
    "class MyWidget(ipyreact.ReactWidget):\n",
    "    my_count = Float(1).tag(sync=True)\n",
    "    _esm = \"\"\"\n",
    "    import * as React from 'react';\n",
    "    import {Mafs,Point, Circle, Plot,Theme, Coordinates, useMovablePoint, vec } from \"mafs\"\n",
    "\n",
    "    export default function HelloFx({my_count}) {\n",
    "    const cos = (x: number) => my_count * Math.cos(x)\n",
    "    return (\n",
    "        <Mafs>\n",
    "        <Coordinates.Cartesian />\n",
    "        <Plot.OfX y={Math.sin} color={Theme.blue} />\n",
    "        <Plot.OfX y={cos} color={Theme.pink} />\n",
    "        </Mafs>\n",
    "    )\n",
    "\n",
    "    }\"\"\"\n",
    "\n",
    "c = MyWidget()\n",
    "c"
   ]
  },
  {
   "cell_type": "code",
   "execution_count": null,
   "metadata": {},
   "outputs": [],
   "source": [
    "c.my_count = 5"
   ]
  },
  {
   "cell_type": "code",
   "execution_count": null,
   "metadata": {},
   "outputs": [],
   "source": [
    "c.my_count = 0.2"
   ]
  },
  {
   "cell_type": "code",
   "execution_count": null,
   "metadata": {},
   "outputs": [],
   "source": [
    "\n",
    "import ipyreact\n",
    "from traitlets import Float\n",
    "\n",
    "\n",
    "\n",
    "class VectorFieldWidget(ipyreact.ReactWidget):\n",
    "    my_opacity = Float(1).tag(sync=True)\n",
    "    my_steps = Float(0.8).tag(sync=True)\n",
    "    _esm = \"\"\"\n",
    "    import { Mafs, Plot, Coordinates, useMovablePoint } from \"mafs\"\n",
    "    import * as React from 'react';\n",
    "\n",
    "    export default function HelloFx({my_opacity, my_steps}) {\n",
    "    const a = useMovablePoint([0.6, 0.6])\n",
    "\n",
    "    return (\n",
    "        <Mafs>\n",
    "        <Coordinates.Cartesian subdivisions={2} />\n",
    "        <Plot.VectorField\n",
    "            xy={([x, y]) => [\n",
    "            y - a.y - (x - a.x),\n",
    "            -(x - a.x) - (y - a.y),\n",
    "            ]}\n",
    "            step={my_steps}\n",
    "            xyOpacity={([x, y]) =>\n",
    "            my_opacity * (Math.abs(x) + Math.abs(y)) / 4\n",
    "            }\n",
    "        />\n",
    "        </Mafs>\n",
    "    )\n",
    "    }\"\"\"\n",
    "\n",
    "d = VectorFieldWidget()\n",
    "d"
   ]
  },
  {
   "cell_type": "code",
   "execution_count": null,
   "metadata": {},
   "outputs": [],
   "source": [
    "d.my_opacity =0.4"
   ]
  },
  {
   "cell_type": "code",
   "execution_count": null,
   "metadata": {},
   "outputs": [],
   "source": [
    "d.my_steps = 0.4"
   ]
  },
  {
   "cell_type": "code",
   "execution_count": null,
   "metadata": {},
   "outputs": [],
   "source": [
    "d.my_opacity =1"
   ]
  },
  {
   "cell_type": "code",
   "execution_count": null,
   "metadata": {},
   "outputs": [],
   "source": [
    "%%react\n",
    "import { Mafs, Line, Coordinates, useMovablePoint } from \"mafs\"\n",
    "import * as React from 'react';\n",
    "\n",
    "export default function HelloFx() {\n",
    "  const point1 = useMovablePoint([-2, -1])\n",
    "  const point2 = useMovablePoint([2, 1])\n",
    "\n",
    "  return (\n",
    "    <Mafs viewBox={{ x: [-2, 2], y: [-1, 1] }}>\n",
    "      <Coordinates.Cartesian />\n",
    "      <Line.Segment\n",
    "        point1={point1.point}\n",
    "        point2={point2.point}\n",
    "      />\n",
    "    </Mafs>\n",
    "  )\n",
    "}"
   ]
  },
  {
   "attachments": {},
   "cell_type": "markdown",
   "metadata": {},
   "source": [
    "from this example https://mafs.dev/guides/display/lines\n",
    "these lines\n",
    "{point1.element}\n",
    "{point2.element}\n",
    "are causing the error:\n",
    "\"Cannot convert undefined or null to object\"\n"
   ]
  },
  {
   "cell_type": "code",
   "execution_count": null,
   "metadata": {},
   "outputs": [],
   "source": [
    "%%react\n",
    "import { Mafs, Line, Coordinates, useMovablePoint } from \"mafs\"\n",
    "import * as React from 'react';\n",
    "\n",
    "export default function HelloFx() {\n",
    "  const point1 = useMovablePoint([-2, -1])\n",
    "  const point2 = useMovablePoint([2, 1])\n",
    "\n",
    "  return (\n",
    "    <Mafs viewBox={{ x: [-2, 2], y: [-1, 1] }}>\n",
    "      <Coordinates.Cartesian />\n",
    "      <Line.Segment\n",
    "        point1={point1.point}\n",
    "        point2={point2.point}\n",
    "      />\n",
    "      {point1.element}\n",
    "      {point2.element}\n",
    "    </Mafs>\n",
    "  )\n",
    "}"
   ]
  }
 ],
 "metadata": {
  "kernelspec": {
   "display_name": ".venv",
   "language": "python",
   "name": "python3"
  },
  "language_info": {
   "codemirror_mode": {
    "name": "ipython",
    "version": 3
   },
   "file_extension": ".py",
   "mimetype": "text/x-python",
   "name": "python",
   "nbconvert_exporter": "python",
   "pygments_lexer": "ipython3",
   "version": "3.9.15"
  },
  "orig_nbformat": 4
 },
 "nbformat": 4,
 "nbformat_minor": 2
}
